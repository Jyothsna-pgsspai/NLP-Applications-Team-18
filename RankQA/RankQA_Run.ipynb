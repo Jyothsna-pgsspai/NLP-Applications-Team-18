{
  "nbformat": 4,
  "nbformat_minor": 0,
  "metadata": {
    "colab": {
      "name": "RankQA_Run.ipynb",
      "provenance": [],
      "collapsed_sections": []
    },
    "kernelspec": {
      "name": "python3",
      "display_name": "Python 3"
    },
    "accelerator": "GPU"
  },
  "cells": [
    {
      "cell_type": "code",
      "metadata": {
        "id": "rgnBMEKxMZts",
        "colab_type": "code",
        "outputId": "6df6898d-0d53-4c62-e244-61f5c920026f",
        "colab": {
          "base_uri": "https://localhost:8080/",
          "height": 122
        }
      },
      "source": [
        "from google.colab import drive\n",
        "drive.mount('/content/drive')"
      ],
      "execution_count": 3,
      "outputs": [
        {
          "output_type": "stream",
          "text": [
            "Go to this URL in a browser: https://accounts.google.com/o/oauth2/auth?client_id=947318989803-6bn6qk8qdgf4n4g3pfee6491hc0brc4i.apps.googleusercontent.com&redirect_uri=urn%3aietf%3awg%3aoauth%3a2.0%3aoob&response_type=code&scope=email%20https%3a%2f%2fwww.googleapis.com%2fauth%2fdocs.test%20https%3a%2f%2fwww.googleapis.com%2fauth%2fdrive%20https%3a%2f%2fwww.googleapis.com%2fauth%2fdrive.photos.readonly%20https%3a%2f%2fwww.googleapis.com%2fauth%2fpeopleapi.readonly\n",
            "\n",
            "Enter your authorization code:\n",
            "··········\n",
            "Mounted at /content/drive\n"
          ],
          "name": "stdout"
        }
      ]
    },
    {
      "cell_type": "code",
      "metadata": {
        "id": "OZyPcSze1U6h",
        "colab_type": "code",
        "outputId": "53a6b5ec-3688-4276-b9b5-70c101b82b1d",
        "colab": {
          "base_uri": "https://localhost:8080/",
          "height": 34
        }
      },
      "source": [
        "!ls"
      ],
      "execution_count": 4,
      "outputs": [
        {
          "output_type": "stream",
          "text": [
            "drive  sample_data\n"
          ],
          "name": "stdout"
        }
      ]
    },
    {
      "cell_type": "code",
      "metadata": {
        "id": "078PhQnqE0Jk",
        "colab_type": "code",
        "outputId": "c5b4bdfb-08ce-462c-a292-a2ba31c6ba8c",
        "colab": {
          "base_uri": "https://localhost:8080/",
          "height": 34
        }
      },
      "source": [
        "%cd \"/content/drive/My Drive/NLA/Project/RankQA\"\n",
        "#%cd \"/RankQA/\""
      ],
      "execution_count": 5,
      "outputs": [
        {
          "output_type": "stream",
          "text": [
            "/content/drive/My Drive/NLA/Project/RankQA\n"
          ],
          "name": "stdout"
        }
      ]
    },
    {
      "cell_type": "code",
      "metadata": {
        "id": "JSd9rJm-FmdA",
        "colab_type": "code",
        "outputId": "3f94f073-b486-4771-c8df-809fe1d9fcd2",
        "colab": {
          "base_uri": "https://localhost:8080/",
          "height": 51
        }
      },
      "source": [
        "!ls"
      ],
      "execution_count": 6,
      "outputs": [
        {
          "output_type": "stream",
          "text": [
            "evaluate.py\t   __pycache__\tREADME.md\t  run.py\n",
            "pre-trained-model  ranker\trequirements.txt\n"
          ],
          "name": "stdout"
        }
      ]
    },
    {
      "cell_type": "code",
      "metadata": {
        "id": "5yMcWLNt_39h",
        "colab_type": "code",
        "colab": {}
      },
      "source": [
        "import argparse\n",
        "import logging\n",
        "import os\n",
        "import sys\n",
        "import time\n",
        "import uuid\n",
        "\n",
        "import numpy as np\n",
        "import torch\n",
        "from evaluate import Evaluator\n",
        "from ranker import data_utils, data_loader\n",
        "from ranker import ranker_net\n",
        "from ranker.data_utils import batchify_pair\n",
        "\n",
        "np.random.seed(42)\n",
        "torch.manual_seed(1)\n",
        "torch.cuda.manual_seed(1)\n",
        "\n",
        "logger = logging.getLogger()"
      ],
      "execution_count": 0,
      "outputs": []
    },
    {
      "cell_type": "code",
      "metadata": {
        "id": "89aRKkIiEhIw",
        "colab_type": "code",
        "colab": {}
      },
      "source": [
        "class Argument:\n",
        "# subsampling\n",
        "    max_per_q = 2\n",
        "    valid_split = 0.9\n",
        "    stratify_valid = True\n",
        "    max_depth = 2\n",
        "# fixed stuff\n",
        "    cuda = True\n",
        "# learning\n",
        "    epochs =  100\n",
        "    lr = 0.005\n",
        "    batch_size = 256\n",
        "\n",
        "# other\n",
        "    name = 'regular_WM'\n",
        "# tuning\n",
        "    linear_dim = 512\n",
        "    reg = 0.00005\n",
        "\n"
      ],
      "execution_count": 0,
      "outputs": []
    },
    {
      "cell_type": "code",
      "metadata": {
        "id": "5jZJxCtVBQ4v",
        "colab_type": "code",
        "colab": {}
      },
      "source": [
        "# ---------------------------------------------------------------------------------------------\n",
        "# description of features to use during training\n",
        "# ---------------------------------------------------------------------------------------------\n",
        "SQUAD_path = \"/content/drive/My Drive/NLA/Project/SQUAD\"\n",
        "WIKI_path = \"/content/drive/My Drive/NLA/Project/WIKI\"\n",
        "\n",
        "feature_descriptors = [\n",
        "    {'feature_name': 'sum_span_score', 'normscheme': 'minmax', 'preprocess': np.log},\n",
        "    {'feature_name': 'sum_doc_score', 'normscheme': 'minmax', 'preprocess': np.log},\n",
        "    {'feature_name': 'doc_score', 'normscheme': 'minmax', 'preprocess': np.log},\n",
        "    {'feature_name': 'span_score', 'normscheme': 'minmax', 'preprocess': np.log},\n",
        "    {'feature_name': 'min_doc_score', 'normscheme': 'minmax', 'preprocess': np.log},\n",
        "    {'feature_name': 'max_doc_score', 'normscheme': 'minmax', 'preprocess': np.log},\n",
        "    {'feature_name': 'avg_doc_score', 'normscheme': 'minmax', 'preprocess': np.log},\n",
        "    {'feature_name': 'max_span_score', 'normscheme': 'minmax', 'preprocess': np.log},\n",
        "    {'feature_name': 'min_span_score', 'normscheme': 'minmax', 'preprocess': np.log},\n",
        "    {'feature_name': 'avg_span_score', 'normscheme': 'minmax', 'preprocess': np.log},\n",
        "    {'feature_name': 'first_occ', 'normscheme': 'minmax', 'preprocess': np.log},\n",
        "    {'feature_name': 'num_occ', 'normscheme': 'minmax', 'preprocess': np.log},\n",
        "    #{'feature_name': 'context_len', 'normscheme': 'minmax', 'preprocess': np.log},\n",
        "    #{'feature_name': 'question_len', 'normscheme': 'minmax', 'preprocess': np.log}\n",
        "]\n",
        "\n",
        "train_filesSQ = [os.path.join(SQUAD_path,\n",
        "                              'SQuAD-v1.1-train-default-pipeline.preds-part-{}'.format(i)) for i in range(88)]\n",
        "\n",
        "'''train_filesWM = [os.path.join(WIKI_path,\n",
        "                              'WikiMovies-train-default-pipeline.preds-part-{}'.format(i)) for i in range(96)]\n",
        "\n",
        "train_filesWQ = [os.path.join('features',\n",
        "                              'WebQuestions-train-default-pipeline.preds-part-{}'.format(i)) for i in range(4)]\n",
        "\n",
        "train_filesT = [os.path.join('features',\n",
        "                             'CuratedTrec-train-default-pipeline.preds-part-{}'.format(i)) for i in range(2)]'''\n",
        "\n",
        "test_files = {\n",
        "\n",
        "      'SQuAD': [os.path.join(SQUAD_path,\n",
        "                           'SQuAD-v1.1-dev-default-pipeline.preds-part-{}'.format(i)) for i in range(11)]\n",
        "              \n",
        "     \n",
        "    }\n",
        "\n",
        "''''SQuAD': [os.path.join(SQUAD_path,\n",
        "                           'SQuAD-v1.1-dev-default-pipeline.preds-part-{}'.format(i)) for i in range(11)]\n",
        "                           \n",
        "   'WikiMovies': [os.path.join(WIKI_path,\n",
        "                                'WikiMovies-test-default-pipeline.preds-part-{}'.format(i)) for i in range(10)]\n",
        "\n",
        "                           '''\n",
        "\n",
        "train_files = [train_filesSQ]\n",
        "\n",
        "# -------------------\n",
        "# Arguments\n",
        "# -------------------\n",
        "\n",
        "\n",
        "def str2bool(v):\n",
        "    if v.lower() in ('yes', 'true', 't', 'y', '1'):\n",
        "        return True\n",
        "    elif v.lower() in ('no', 'false', 'f', 'n', '0'):\n",
        "        return False\n",
        "    else:\n",
        "        raise argparse.ArgumentTypeError('Boolean value expected.')\n",
        "\n",
        "\n",
        "args_ = Argument()"
      ],
      "execution_count": 0,
      "outputs": []
    },
    {
      "cell_type": "code",
      "metadata": {
        "id": "pKhODF7JB7gY",
        "colab_type": "code",
        "colab": {}
      },
      "source": [
        "def val(valid_loader_, model_, args_):\n",
        "    valid_loss = []\n",
        "    for i, input in enumerate(valid_loader_):\n",
        "        inl, inr, target = input\n",
        "        l = model_.eval_pairwise(inl, inr, target)\n",
        "        valid_loss.append(l)\n",
        "    return np.mean(valid_loss)\n",
        "\n",
        "\n",
        "def train(train_loader_, valid_loader_, model_, args_, evaluators_, modelfilename_):\n",
        "    initiallywrong = []\n",
        "    for evaluator_ in evaluators_:\n",
        "        log, wrongansw = evaluator_.evaluate(model_)\n",
        "        initiallywrong.append(wrongansw)\n",
        "        logger.info(log)\n",
        "    best_val_loss = float('inf')\n",
        "    best_val_iteration = 0\n",
        "\n",
        "    for b in range(args_.epochs):\n",
        "        loss = []\n",
        "        logger.info('==================== EPOCH {} ================================'.format(b))\n",
        "        for i, input in enumerate(train_loader_):\n",
        "            inl, inr, target = input\n",
        "            l = model_.update_pairwise(inl, inr, target)\n",
        "            loss.append(l)\n",
        "        val_loss = val(valid_loader_, model_, args_)\n",
        "        logger.info('Epoch finished avg loss = {}'.format(np.mean(loss)))\n",
        "        logger.info('Validation loss = {}'.format(val_loss))\n",
        "\n",
        "        # check if\n",
        "        if best_val_loss > val_loss:\n",
        "            # save model\n",
        "            logger.info('BEST EPOCH SO FAR --> safe model')\n",
        "            model_.safe(modelfilename_)\n",
        "            best_val_loss = val_loss\n",
        "            best_val_iteration = 0\n",
        "        best_val_iteration += 1\n",
        "        if best_val_iteration > 10:\n",
        "            # stop training\n",
        "            logger.info(\"EARLY STOPPING\")\n",
        "            break\n",
        "    model_.load(modelfilename_)\n",
        "    # evaluate\n",
        "    for i, evaluator_ in enumerate(evaluators_):\n",
        "        log, wrong = evaluator_.evaluate(model_)\n",
        "        logger.info(log)\n",
        "        logger.info('fraction still correct = {}'.format(len(np.intersect1d(initiallywrong[i], wrong)) /\n",
        "                                                         len(wrong)))\n"
      ],
      "execution_count": 0,
      "outputs": []
    },
    {
      "cell_type": "code",
      "metadata": {
        "id": "O8xzS9TgCVzn",
        "colab_type": "code",
        "outputId": "d3946a1c-967b-4279-a463-ea7f16713eaa",
        "colab": {
          "base_uri": "https://localhost:8080/",
          "height": 71
        }
      },
      "source": [
        "    output_path = \"/content/drive/My Drive/NLA/Project/output/\"\n",
        "\n",
        "    logger.setLevel(logging.INFO)\n",
        "    fmt = logging.Formatter('%(asctime)s: [ %(message)s ]', '%m/%d/%Y %I:%M:%S %p')\n",
        "    console = logging.StreamHandler()\n",
        "    console.setFormatter(fmt)\n",
        "    logger.addHandler(console)\n",
        "    ts = time.strftime(\"%Y%m%d-\") + str(uuid.uuid4())[:8]\n",
        "\n",
        "    logfilename = os.path.join(output_path, args_.name + ts + \".txt\")\n",
        "    modelfilename = os.path.join(output_path, args_.name + ts + \".mdl\")\n",
        "    logfile = logging.FileHandler(logfilename, 'w')\n",
        "    logfile.setFormatter(fmt)\n",
        "    logger.addHandler(logfile)\n",
        "    logger.info('COMMAND: %s' % ' '.join(sys.argv))\n",
        "\n",
        "    logger.info(args_)\n",
        "\n"
      ],
      "execution_count": 11,
      "outputs": [
        {
          "output_type": "stream",
          "text": [
            "05/01/2020 09:35:17 AM: [ COMMAND: /usr/local/lib/python3.6/dist-packages/ipykernel_launcher.py -f /root/.local/share/jupyter/runtime/kernel-967954f9-2920-48b6-8c7e-934d3e6e707f.json ]\n",
            "05/01/2020 09:35:17 AM: [ <__main__.Argument object at 0x7fd4f3c7d9b0> ]\n"
          ],
          "name": "stderr"
        }
      ]
    },
    {
      "cell_type": "code",
      "metadata": {
        "id": "jWmCaxcfGcnX",
        "colab_type": "code",
        "outputId": "f4cd4b56-167e-453a-d6f2-e0edb7d67fee",
        "colab": {
          "base_uri": "https://localhost:8080/",
          "height": 1000
        }
      },
      "source": [
        "    # load training data\n",
        "    logger.info('Loading {} files with training samples..'.format(sum(len(x) for x in train_files)))\n",
        "    train_data, valid_data, normalizers = data_utils.load_subsample(train_files, feature_descriptors, args_)\n",
        "    logger.info('Done. Number of train pairs loaded: {} (valid = {})'.format(len(train_data), len(valid_data)))\n"
      ],
      "execution_count": 12,
      "outputs": [
        {
          "output_type": "stream",
          "text": [
            "05/01/2020 09:35:19 AM: [ Loading 88 files with training samples.. ]\n",
            "05/01/2020 09:35:19 AM: [ loading and processing /content/drive/My Drive/NLA/Project/SQUAD/SQuAD-v1.1-train-default-pipeline.preds-part-0 ]\n",
            "05/01/2020 09:35:21 AM: [ loading and processing /content/drive/My Drive/NLA/Project/SQUAD/SQuAD-v1.1-train-default-pipeline.preds-part-1 ]\n",
            "05/01/2020 09:35:24 AM: [ loading and processing /content/drive/My Drive/NLA/Project/SQUAD/SQuAD-v1.1-train-default-pipeline.preds-part-2 ]\n",
            "05/01/2020 09:35:26 AM: [ loading and processing /content/drive/My Drive/NLA/Project/SQUAD/SQuAD-v1.1-train-default-pipeline.preds-part-3 ]\n",
            "05/01/2020 09:35:28 AM: [ loading and processing /content/drive/My Drive/NLA/Project/SQUAD/SQuAD-v1.1-train-default-pipeline.preds-part-4 ]\n",
            "05/01/2020 09:35:30 AM: [ loading and processing /content/drive/My Drive/NLA/Project/SQUAD/SQuAD-v1.1-train-default-pipeline.preds-part-5 ]\n",
            "05/01/2020 09:35:32 AM: [ loading and processing /content/drive/My Drive/NLA/Project/SQUAD/SQuAD-v1.1-train-default-pipeline.preds-part-6 ]\n",
            "05/01/2020 09:35:34 AM: [ loading and processing /content/drive/My Drive/NLA/Project/SQUAD/SQuAD-v1.1-train-default-pipeline.preds-part-7 ]\n",
            "05/01/2020 09:35:36 AM: [ loading and processing /content/drive/My Drive/NLA/Project/SQUAD/SQuAD-v1.1-train-default-pipeline.preds-part-8 ]\n",
            "05/01/2020 09:35:38 AM: [ loading and processing /content/drive/My Drive/NLA/Project/SQUAD/SQuAD-v1.1-train-default-pipeline.preds-part-9 ]\n",
            "05/01/2020 09:35:40 AM: [ loading and processing /content/drive/My Drive/NLA/Project/SQUAD/SQuAD-v1.1-train-default-pipeline.preds-part-10 ]\n",
            "05/01/2020 09:35:42 AM: [ loading and processing /content/drive/My Drive/NLA/Project/SQUAD/SQuAD-v1.1-train-default-pipeline.preds-part-11 ]\n",
            "05/01/2020 09:35:44 AM: [ loading and processing /content/drive/My Drive/NLA/Project/SQUAD/SQuAD-v1.1-train-default-pipeline.preds-part-12 ]\n",
            "05/01/2020 09:35:47 AM: [ loading and processing /content/drive/My Drive/NLA/Project/SQUAD/SQuAD-v1.1-train-default-pipeline.preds-part-13 ]\n",
            "05/01/2020 09:35:49 AM: [ loading and processing /content/drive/My Drive/NLA/Project/SQUAD/SQuAD-v1.1-train-default-pipeline.preds-part-14 ]\n",
            "05/01/2020 09:35:51 AM: [ loading and processing /content/drive/My Drive/NLA/Project/SQUAD/SQuAD-v1.1-train-default-pipeline.preds-part-15 ]\n",
            "05/01/2020 09:35:53 AM: [ loading and processing /content/drive/My Drive/NLA/Project/SQUAD/SQuAD-v1.1-train-default-pipeline.preds-part-16 ]\n",
            "05/01/2020 09:35:55 AM: [ loading and processing /content/drive/My Drive/NLA/Project/SQUAD/SQuAD-v1.1-train-default-pipeline.preds-part-17 ]\n",
            "05/01/2020 09:35:57 AM: [ loading and processing /content/drive/My Drive/NLA/Project/SQUAD/SQuAD-v1.1-train-default-pipeline.preds-part-18 ]\n",
            "05/01/2020 09:35:59 AM: [ loading and processing /content/drive/My Drive/NLA/Project/SQUAD/SQuAD-v1.1-train-default-pipeline.preds-part-19 ]\n",
            "05/01/2020 09:36:01 AM: [ loading and processing /content/drive/My Drive/NLA/Project/SQUAD/SQuAD-v1.1-train-default-pipeline.preds-part-20 ]\n",
            "05/01/2020 09:36:03 AM: [ loading and processing /content/drive/My Drive/NLA/Project/SQUAD/SQuAD-v1.1-train-default-pipeline.preds-part-21 ]\n",
            "05/01/2020 09:36:05 AM: [ loading and processing /content/drive/My Drive/NLA/Project/SQUAD/SQuAD-v1.1-train-default-pipeline.preds-part-22 ]\n",
            "05/01/2020 09:36:07 AM: [ loading and processing /content/drive/My Drive/NLA/Project/SQUAD/SQuAD-v1.1-train-default-pipeline.preds-part-23 ]\n",
            "05/01/2020 09:36:09 AM: [ loading and processing /content/drive/My Drive/NLA/Project/SQUAD/SQuAD-v1.1-train-default-pipeline.preds-part-24 ]\n",
            "05/01/2020 09:36:12 AM: [ loading and processing /content/drive/My Drive/NLA/Project/SQUAD/SQuAD-v1.1-train-default-pipeline.preds-part-25 ]\n",
            "05/01/2020 09:36:14 AM: [ loading and processing /content/drive/My Drive/NLA/Project/SQUAD/SQuAD-v1.1-train-default-pipeline.preds-part-26 ]\n",
            "05/01/2020 09:36:16 AM: [ loading and processing /content/drive/My Drive/NLA/Project/SQUAD/SQuAD-v1.1-train-default-pipeline.preds-part-27 ]\n",
            "05/01/2020 09:36:18 AM: [ loading and processing /content/drive/My Drive/NLA/Project/SQUAD/SQuAD-v1.1-train-default-pipeline.preds-part-28 ]\n",
            "05/01/2020 09:36:20 AM: [ loading and processing /content/drive/My Drive/NLA/Project/SQUAD/SQuAD-v1.1-train-default-pipeline.preds-part-29 ]\n",
            "05/01/2020 09:36:22 AM: [ loading and processing /content/drive/My Drive/NLA/Project/SQUAD/SQuAD-v1.1-train-default-pipeline.preds-part-30 ]\n",
            "05/01/2020 09:36:25 AM: [ loading and processing /content/drive/My Drive/NLA/Project/SQUAD/SQuAD-v1.1-train-default-pipeline.preds-part-31 ]\n",
            "05/01/2020 09:36:27 AM: [ loading and processing /content/drive/My Drive/NLA/Project/SQUAD/SQuAD-v1.1-train-default-pipeline.preds-part-32 ]\n",
            "05/01/2020 09:36:29 AM: [ loading and processing /content/drive/My Drive/NLA/Project/SQUAD/SQuAD-v1.1-train-default-pipeline.preds-part-33 ]\n",
            "05/01/2020 09:36:32 AM: [ loading and processing /content/drive/My Drive/NLA/Project/SQUAD/SQuAD-v1.1-train-default-pipeline.preds-part-34 ]\n",
            "05/01/2020 09:36:34 AM: [ loading and processing /content/drive/My Drive/NLA/Project/SQUAD/SQuAD-v1.1-train-default-pipeline.preds-part-35 ]\n",
            "05/01/2020 09:36:36 AM: [ loading and processing /content/drive/My Drive/NLA/Project/SQUAD/SQuAD-v1.1-train-default-pipeline.preds-part-36 ]\n",
            "05/01/2020 09:36:38 AM: [ loading and processing /content/drive/My Drive/NLA/Project/SQUAD/SQuAD-v1.1-train-default-pipeline.preds-part-37 ]\n",
            "05/01/2020 09:36:40 AM: [ loading and processing /content/drive/My Drive/NLA/Project/SQUAD/SQuAD-v1.1-train-default-pipeline.preds-part-38 ]\n",
            "05/01/2020 09:36:43 AM: [ loading and processing /content/drive/My Drive/NLA/Project/SQUAD/SQuAD-v1.1-train-default-pipeline.preds-part-39 ]\n",
            "05/01/2020 09:36:45 AM: [ loading and processing /content/drive/My Drive/NLA/Project/SQUAD/SQuAD-v1.1-train-default-pipeline.preds-part-40 ]\n",
            "05/01/2020 09:36:47 AM: [ loading and processing /content/drive/My Drive/NLA/Project/SQUAD/SQuAD-v1.1-train-default-pipeline.preds-part-41 ]\n",
            "05/01/2020 09:36:49 AM: [ loading and processing /content/drive/My Drive/NLA/Project/SQUAD/SQuAD-v1.1-train-default-pipeline.preds-part-42 ]\n",
            "05/01/2020 09:36:52 AM: [ loading and processing /content/drive/My Drive/NLA/Project/SQUAD/SQuAD-v1.1-train-default-pipeline.preds-part-43 ]\n",
            "05/01/2020 09:36:54 AM: [ loading and processing /content/drive/My Drive/NLA/Project/SQUAD/SQuAD-v1.1-train-default-pipeline.preds-part-44 ]\n",
            "05/01/2020 09:36:57 AM: [ loading and processing /content/drive/My Drive/NLA/Project/SQUAD/SQuAD-v1.1-train-default-pipeline.preds-part-45 ]\n",
            "05/01/2020 09:36:59 AM: [ loading and processing /content/drive/My Drive/NLA/Project/SQUAD/SQuAD-v1.1-train-default-pipeline.preds-part-46 ]\n",
            "05/01/2020 09:37:01 AM: [ loading and processing /content/drive/My Drive/NLA/Project/SQUAD/SQuAD-v1.1-train-default-pipeline.preds-part-47 ]\n",
            "05/01/2020 09:37:03 AM: [ loading and processing /content/drive/My Drive/NLA/Project/SQUAD/SQuAD-v1.1-train-default-pipeline.preds-part-48 ]\n",
            "05/01/2020 09:37:05 AM: [ loading and processing /content/drive/My Drive/NLA/Project/SQUAD/SQuAD-v1.1-train-default-pipeline.preds-part-49 ]\n",
            "05/01/2020 09:37:08 AM: [ loading and processing /content/drive/My Drive/NLA/Project/SQUAD/SQuAD-v1.1-train-default-pipeline.preds-part-50 ]\n",
            "05/01/2020 09:37:10 AM: [ loading and processing /content/drive/My Drive/NLA/Project/SQUAD/SQuAD-v1.1-train-default-pipeline.preds-part-51 ]\n",
            "05/01/2020 09:37:12 AM: [ loading and processing /content/drive/My Drive/NLA/Project/SQUAD/SQuAD-v1.1-train-default-pipeline.preds-part-52 ]\n",
            "05/01/2020 09:37:14 AM: [ loading and processing /content/drive/My Drive/NLA/Project/SQUAD/SQuAD-v1.1-train-default-pipeline.preds-part-53 ]\n",
            "05/01/2020 09:37:16 AM: [ loading and processing /content/drive/My Drive/NLA/Project/SQUAD/SQuAD-v1.1-train-default-pipeline.preds-part-54 ]\n",
            "05/01/2020 09:37:18 AM: [ loading and processing /content/drive/My Drive/NLA/Project/SQUAD/SQuAD-v1.1-train-default-pipeline.preds-part-55 ]\n",
            "05/01/2020 09:37:20 AM: [ loading and processing /content/drive/My Drive/NLA/Project/SQUAD/SQuAD-v1.1-train-default-pipeline.preds-part-56 ]\n",
            "05/01/2020 09:37:23 AM: [ loading and processing /content/drive/My Drive/NLA/Project/SQUAD/SQuAD-v1.1-train-default-pipeline.preds-part-57 ]\n",
            "05/01/2020 09:37:25 AM: [ loading and processing /content/drive/My Drive/NLA/Project/SQUAD/SQuAD-v1.1-train-default-pipeline.preds-part-58 ]\n",
            "05/01/2020 09:37:27 AM: [ loading and processing /content/drive/My Drive/NLA/Project/SQUAD/SQuAD-v1.1-train-default-pipeline.preds-part-59 ]\n",
            "05/01/2020 09:37:30 AM: [ loading and processing /content/drive/My Drive/NLA/Project/SQUAD/SQuAD-v1.1-train-default-pipeline.preds-part-60 ]\n",
            "05/01/2020 09:37:32 AM: [ loading and processing /content/drive/My Drive/NLA/Project/SQUAD/SQuAD-v1.1-train-default-pipeline.preds-part-61 ]\n",
            "05/01/2020 09:37:34 AM: [ loading and processing /content/drive/My Drive/NLA/Project/SQUAD/SQuAD-v1.1-train-default-pipeline.preds-part-62 ]\n",
            "05/01/2020 09:37:37 AM: [ loading and processing /content/drive/My Drive/NLA/Project/SQUAD/SQuAD-v1.1-train-default-pipeline.preds-part-63 ]\n",
            "05/01/2020 09:37:39 AM: [ loading and processing /content/drive/My Drive/NLA/Project/SQUAD/SQuAD-v1.1-train-default-pipeline.preds-part-64 ]\n",
            "05/01/2020 09:37:41 AM: [ loading and processing /content/drive/My Drive/NLA/Project/SQUAD/SQuAD-v1.1-train-default-pipeline.preds-part-65 ]\n",
            "05/01/2020 09:37:43 AM: [ loading and processing /content/drive/My Drive/NLA/Project/SQUAD/SQuAD-v1.1-train-default-pipeline.preds-part-66 ]\n",
            "05/01/2020 09:37:45 AM: [ loading and processing /content/drive/My Drive/NLA/Project/SQUAD/SQuAD-v1.1-train-default-pipeline.preds-part-67 ]\n",
            "05/01/2020 09:37:47 AM: [ loading and processing /content/drive/My Drive/NLA/Project/SQUAD/SQuAD-v1.1-train-default-pipeline.preds-part-68 ]\n",
            "05/01/2020 09:37:49 AM: [ loading and processing /content/drive/My Drive/NLA/Project/SQUAD/SQuAD-v1.1-train-default-pipeline.preds-part-69 ]\n",
            "05/01/2020 09:37:51 AM: [ loading and processing /content/drive/My Drive/NLA/Project/SQUAD/SQuAD-v1.1-train-default-pipeline.preds-part-70 ]\n",
            "05/01/2020 09:37:54 AM: [ loading and processing /content/drive/My Drive/NLA/Project/SQUAD/SQuAD-v1.1-train-default-pipeline.preds-part-71 ]\n",
            "05/01/2020 09:37:56 AM: [ loading and processing /content/drive/My Drive/NLA/Project/SQUAD/SQuAD-v1.1-train-default-pipeline.preds-part-72 ]\n",
            "05/01/2020 09:37:58 AM: [ loading and processing /content/drive/My Drive/NLA/Project/SQUAD/SQuAD-v1.1-train-default-pipeline.preds-part-73 ]\n",
            "05/01/2020 09:38:01 AM: [ loading and processing /content/drive/My Drive/NLA/Project/SQUAD/SQuAD-v1.1-train-default-pipeline.preds-part-74 ]\n",
            "05/01/2020 09:38:03 AM: [ loading and processing /content/drive/My Drive/NLA/Project/SQUAD/SQuAD-v1.1-train-default-pipeline.preds-part-75 ]\n",
            "05/01/2020 09:38:05 AM: [ loading and processing /content/drive/My Drive/NLA/Project/SQUAD/SQuAD-v1.1-train-default-pipeline.preds-part-76 ]\n",
            "05/01/2020 09:38:07 AM: [ loading and processing /content/drive/My Drive/NLA/Project/SQUAD/SQuAD-v1.1-train-default-pipeline.preds-part-77 ]\n",
            "05/01/2020 09:38:09 AM: [ loading and processing /content/drive/My Drive/NLA/Project/SQUAD/SQuAD-v1.1-train-default-pipeline.preds-part-78 ]\n",
            "05/01/2020 09:38:12 AM: [ loading and processing /content/drive/My Drive/NLA/Project/SQUAD/SQuAD-v1.1-train-default-pipeline.preds-part-79 ]\n",
            "05/01/2020 09:38:14 AM: [ loading and processing /content/drive/My Drive/NLA/Project/SQUAD/SQuAD-v1.1-train-default-pipeline.preds-part-80 ]\n",
            "05/01/2020 09:38:18 AM: [ loading and processing /content/drive/My Drive/NLA/Project/SQUAD/SQuAD-v1.1-train-default-pipeline.preds-part-81 ]\n",
            "05/01/2020 09:38:20 AM: [ loading and processing /content/drive/My Drive/NLA/Project/SQUAD/SQuAD-v1.1-train-default-pipeline.preds-part-82 ]\n",
            "05/01/2020 09:38:22 AM: [ loading and processing /content/drive/My Drive/NLA/Project/SQUAD/SQuAD-v1.1-train-default-pipeline.preds-part-83 ]\n",
            "05/01/2020 09:38:24 AM: [ loading and processing /content/drive/My Drive/NLA/Project/SQUAD/SQuAD-v1.1-train-default-pipeline.preds-part-84 ]\n",
            "05/01/2020 09:38:26 AM: [ loading and processing /content/drive/My Drive/NLA/Project/SQUAD/SQuAD-v1.1-train-default-pipeline.preds-part-85 ]\n",
            "05/01/2020 09:38:29 AM: [ loading and processing /content/drive/My Drive/NLA/Project/SQUAD/SQuAD-v1.1-train-default-pipeline.preds-part-86 ]\n",
            "05/01/2020 09:38:31 AM: [ loading and processing /content/drive/My Drive/NLA/Project/SQUAD/SQuAD-v1.1-train-default-pipeline.preds-part-87 ]\n",
            "05/01/2020 09:38:47 AM: [ Done. Number of train pairs loaded: 42021 (valid = 4696) ]\n"
          ],
          "name": "stderr"
        }
      ]
    },
    {
      "cell_type": "code",
      "metadata": {
        "id": "UrnbsCTkLtjT",
        "colab_type": "code",
        "outputId": "00603926-dcf1-4617-9d20-c1dceb9d3e13",
        "colab": {
          "base_uri": "https://localhost:8080/",
          "height": 34
        }
      },
      "source": [
        "    # load dev data\n",
        "    evaluators = []\n",
        "    for dataset in test_files:\n",
        "        logger.info('Loading {} dataset with {} files..'.format(dataset, len(test_files[dataset])))\n",
        "        test_data = data_utils.load_full(test_files[dataset])\n",
        "        test_dataset = data_utils.build_validation_dataset(test_data, normalizers)\n",
        "        evaluator = Evaluator(test_dataset[0], test_dataset[1], dataset)\n",
        "        evaluators.append(evaluator)\n",
        "\n"
      ],
      "execution_count": 13,
      "outputs": [
        {
          "output_type": "stream",
          "text": [
            "05/01/2020 09:43:03 AM: [ Loading SQuAD dataset with 11 files.. ]\n"
          ],
          "name": "stderr"
        }
      ]
    },
    {
      "cell_type": "code",
      "metadata": {
        "id": "gf5qJGGpsiUc",
        "colab_type": "code",
        "outputId": "5f11242b-3ae6-4f44-f46a-d3ab2aa79ecc",
        "colab": {
          "base_uri": "https://localhost:8080/",
          "height": 163
        }
      },
      "source": [
        "test_files"
      ],
      "execution_count": 1,
      "outputs": [
        {
          "output_type": "error",
          "ename": "NameError",
          "evalue": "ignored",
          "traceback": [
            "\u001b[0;31m---------------------------------------------------------------------------\u001b[0m",
            "\u001b[0;31mNameError\u001b[0m                                 Traceback (most recent call last)",
            "\u001b[0;32m<ipython-input-1-f4946d527ed9>\u001b[0m in \u001b[0;36m<module>\u001b[0;34m()\u001b[0m\n\u001b[0;32m----> 1\u001b[0;31m \u001b[0mtest_files\u001b[0m\u001b[0;34m\u001b[0m\u001b[0;34m\u001b[0m\u001b[0m\n\u001b[0m",
            "\u001b[0;31mNameError\u001b[0m: name 'test_files' is not defined"
          ]
        }
      ]
    },
    {
      "cell_type": "code",
      "metadata": {
        "id": "AcULqcwZM64n",
        "colab_type": "code",
        "outputId": "5334217c-0d59-40a8-d171-fcbc3d487175",
        "colab": {
          "base_uri": "https://localhost:8080/",
          "height": 68
        }
      },
      "source": [
        "    # generate train data loader\n",
        "    logger.info('Initialize training loader..')\n",
        "    train_dataset = data_loader.PairwiseRankingDataSet(train_data, normalizers)\n",
        "    valid_dataset = data_loader.PairwiseRankingDataSet(valid_data, normalizers)\n",
        "\n",
        "    train_loader = torch.utils.data.DataLoader(\n",
        "        train_dataset,\n",
        "        batch_size=args_.batch_size,\n",
        "        sampler=torch.utils.data.sampler.RandomSampler(train_dataset),\n",
        "        pin_memory=args_.cuda,\n",
        "        collate_fn=batchify_pair\n",
        "    )\n",
        "\n",
        "    valid_loader = torch.utils.data.DataLoader(\n",
        "        valid_dataset,\n",
        "        batch_size=args_.batch_size,\n",
        "        sampler=torch.utils.data.sampler.RandomSampler(valid_dataset),\n",
        "        pin_memory=args_.cuda,\n",
        "        collate_fn=batchify_pair\n",
        "    )\n",
        "\n",
        "    # init model\n",
        "    logger.info('Init model..')\n",
        "    model = ranker_net.RankerNet(args_, train_dataset.num_feat)\n",
        "    logger.info('Done.')\n",
        "\n",
        "    "
      ],
      "execution_count": 14,
      "outputs": [
        {
          "output_type": "stream",
          "text": [
            "05/01/2020 09:44:29 AM: [ Initialize training loader.. ]\n",
            "05/01/2020 09:44:38 AM: [ Init model.. ]\n",
            "05/01/2020 09:44:48 AM: [ Done. ]\n"
          ],
          "name": "stderr"
        }
      ]
    },
    {
      "cell_type": "code",
      "metadata": {
        "id": "838miNCltX0E",
        "colab_type": "code",
        "colab": {}
      },
      "source": [
        "train_dataset.y"
      ],
      "execution_count": 0,
      "outputs": []
    },
    {
      "cell_type": "code",
      "metadata": {
        "id": "VXBeTyx88qQf",
        "colab_type": "code",
        "outputId": "af7bca93-23c5-4d2b-d0bb-ef1a38a42b80",
        "colab": {
          "base_uri": "https://localhost:8080/",
          "height": 135
        }
      },
      "source": [
        "for b in range(args.epochs):\n",
        "        loss = []\n",
        "        logger.info('==================== EPOCH {} ================================'.format(b))\n",
        "        for i, input in enumerate(train_loader):\n",
        "            inl, inr, target = input\n",
        "            l = model.update_pairwise(inl, inr, target)\n",
        "            loss.append(l)\n",
        "        val_loss = val(valid_loader, model, args)\n",
        "        logger.info('Epoch finished avg loss = {}'.format(np.mean(loss)))\n",
        "        logger.info('Validation loss = {}'.format(val_loss))\n",
        "\n",
        "        # check if\n",
        "        if best_val_loss > val_loss:\n",
        "            # save model\n",
        "            logger.info('BEST EPOCH SO FAR --> safe model')\n",
        "            model.safe(modelfilename)\n",
        "            best_val_loss = val_loss\n",
        "            best_val_iteration = 0\n",
        "        best_val_iteration += 1\n",
        "        if best_val_iteration > 10:\n",
        "            # stop training\n",
        "            logger.info(\"EARLY STOPPING\")\n",
        "            break\n",
        "    model.load(modelfilename)\n"
      ],
      "execution_count": 0,
      "outputs": [
        {
          "output_type": "error",
          "ename": "IndentationError",
          "evalue": "ignored",
          "traceback": [
            "\u001b[0;36m  File \u001b[0;32m\"<ipython-input-14-068bfe8c433c>\"\u001b[0;36m, line \u001b[0;32m24\u001b[0m\n\u001b[0;31m    model.load(modelfilename)\u001b[0m\n\u001b[0m                             ^\u001b[0m\n\u001b[0;31mIndentationError\u001b[0m\u001b[0;31m:\u001b[0m unindent does not match any outer indentation level\n"
          ]
        }
      ]
    },
    {
      "cell_type": "code",
      "metadata": {
        "id": "pqNMN1kHqFr9",
        "colab_type": "code",
        "colab": {}
      },
      "source": [
        "'''baseline_performance = 0\n",
        "top_performance = 0\n",
        "model_performance = 0\n",
        "wrong = []\n",
        "with torch.no_grad():\n",
        "   inputs = []\n",
        "   solvable = False'''\n",
        "for i, x in enumerate(test_dataset[0]):\n",
        "  inputs = []\n",
        "  for j, candidate in enumerate(test_dataset[0][i]):\n",
        "    inputs.append(candidate)\n",
        "\n",
        "#print(inputs)\n",
        "  scores = model.predict(torch.stack(inputs))\n",
        "  print(scores)\n",
        "#test_dataset[1][0]\n"
      ],
      "execution_count": 0,
      "outputs": []
    },
    {
      "cell_type": "code",
      "metadata": {
        "id": "PBW2tvjzkHEP",
        "colab_type": "code",
        "outputId": "198b3896-2338-4dff-93de-611a96370b51",
        "colab": {
          "base_uri": "https://localhost:8080/",
          "height": 1000
        }
      },
      "source": [
        "# kick off training\n",
        "   train(train_loader, valid_loader, model, args_, evaluators, modelfilename)\n",
        "   for handler in logger.handlers:\n",
        "        handler.flush()\n"
      ],
      "execution_count": 15,
      "outputs": [
        {
          "output_type": "stream",
          "text": [
            "0it [00:00, ?it/s]/pytorch/torch/csrc/utils/python_arg_parser.cpp:756: UserWarning: This overload of cuda is deprecated:\n",
            "\tcuda(torch.device device, bool async, *, torch.memory_format memory_format)\n",
            "Consider using one of the following signatures instead:\n",
            "\tcuda(torch.device device, bool non_blocking, *, torch.memory_format memory_format)\n",
            "10570it [00:02, 3569.97it/s]\n",
            "05/01/2020 09:45:01 AM: [ SQuAD evaluation results w/o re-ranking: 0.30018921475875116 / upper bound: 0.5428571428571428; rank-qa: 0.23765373699148534 ]\n",
            "05/01/2020 09:45:01 AM: [ ==================== EPOCH 0 ================================ ]\n",
            "05/01/2020 09:45:02 AM: [ Epoch finished avg loss = 0.10649658653772238 ]\n",
            "05/01/2020 09:45:02 AM: [ Validation loss = 0.10606715514471657 ]\n",
            "05/01/2020 09:45:02 AM: [ BEST EPOCH SO FAR --> safe model ]\n",
            "05/01/2020 09:45:03 AM: [ ==================== EPOCH 1 ================================ ]\n",
            "05/01/2020 09:45:03 AM: [ Epoch finished avg loss = 0.09985008149436025 ]\n",
            "05/01/2020 09:45:03 AM: [ Validation loss = 0.10567947633956608 ]\n",
            "05/01/2020 09:45:03 AM: [ BEST EPOCH SO FAR --> safe model ]\n",
            "05/01/2020 09:45:03 AM: [ ==================== EPOCH 2 ================================ ]\n",
            "05/01/2020 09:45:04 AM: [ Epoch finished avg loss = 0.09893956870743723 ]\n",
            "05/01/2020 09:45:04 AM: [ Validation loss = 0.10772490540617391 ]\n",
            "05/01/2020 09:45:04 AM: [ ==================== EPOCH 3 ================================ ]\n",
            "05/01/2020 09:45:05 AM: [ Epoch finished avg loss = 0.09835169098593972 ]\n",
            "05/01/2020 09:45:05 AM: [ Validation loss = 0.10521095050008673 ]\n",
            "05/01/2020 09:45:05 AM: [ BEST EPOCH SO FAR --> safe model ]\n",
            "05/01/2020 09:45:05 AM: [ ==================== EPOCH 4 ================================ ]\n",
            "05/01/2020 09:45:05 AM: [ Epoch finished avg loss = 0.09814476483699047 ]\n",
            "05/01/2020 09:45:05 AM: [ Validation loss = 0.10486383716526784 ]\n",
            "05/01/2020 09:45:05 AM: [ BEST EPOCH SO FAR --> safe model ]\n",
            "05/01/2020 09:45:05 AM: [ ==================== EPOCH 5 ================================ ]\n",
            "05/01/2020 09:45:06 AM: [ Epoch finished avg loss = 0.09828622598539699 ]\n",
            "05/01/2020 09:45:06 AM: [ Validation loss = 0.10511499760966551 ]\n",
            "05/01/2020 09:45:06 AM: [ ==================== EPOCH 6 ================================ ]\n",
            "05/01/2020 09:45:06 AM: [ Epoch finished avg loss = 0.09783843769268556 ]\n",
            "05/01/2020 09:45:06 AM: [ Validation loss = 0.10703212807053014 ]\n",
            "05/01/2020 09:45:06 AM: [ ==================== EPOCH 7 ================================ ]\n",
            "05/01/2020 09:45:07 AM: [ Epoch finished avg loss = 0.09814293027827234 ]\n",
            "05/01/2020 09:45:07 AM: [ Validation loss = 0.10561051807905499 ]\n",
            "05/01/2020 09:45:07 AM: [ ==================== EPOCH 8 ================================ ]\n",
            "05/01/2020 09:45:08 AM: [ Epoch finished avg loss = 0.09735826924443244 ]\n",
            "05/01/2020 09:45:08 AM: [ Validation loss = 0.10543655094347502 ]\n",
            "05/01/2020 09:45:08 AM: [ ==================== EPOCH 9 ================================ ]\n",
            "05/01/2020 09:45:08 AM: [ Epoch finished avg loss = 0.09739362037543095 ]\n",
            "05/01/2020 09:45:08 AM: [ Validation loss = 0.10750175541953037 ]\n",
            "05/01/2020 09:45:08 AM: [ ==================== EPOCH 10 ================================ ]\n",
            "05/01/2020 09:45:09 AM: [ Epoch finished avg loss = 0.09776439413879857 ]\n",
            "05/01/2020 09:45:09 AM: [ Validation loss = 0.10622627954733999 ]\n",
            "05/01/2020 09:45:09 AM: [ ==================== EPOCH 11 ================================ ]\n",
            "05/01/2020 09:45:09 AM: [ Epoch finished avg loss = 0.09747018981160539 ]\n",
            "05/01/2020 09:45:09 AM: [ Validation loss = 0.10473455567108958 ]\n",
            "05/01/2020 09:45:09 AM: [ BEST EPOCH SO FAR --> safe model ]\n",
            "05/01/2020 09:45:09 AM: [ ==================== EPOCH 12 ================================ ]\n",
            "05/01/2020 09:45:10 AM: [ Epoch finished avg loss = 0.09718204221942207 ]\n",
            "05/01/2020 09:45:10 AM: [ Validation loss = 0.10477494566064131 ]\n",
            "05/01/2020 09:45:10 AM: [ ==================== EPOCH 13 ================================ ]\n",
            "05/01/2020 09:45:11 AM: [ Epoch finished avg loss = 0.09727613352464907 ]\n",
            "05/01/2020 09:45:11 AM: [ Validation loss = 0.10636932559703526 ]\n",
            "05/01/2020 09:45:11 AM: [ ==================== EPOCH 14 ================================ ]\n",
            "05/01/2020 09:45:11 AM: [ Epoch finished avg loss = 0.097639466325442 ]\n",
            "05/01/2020 09:45:11 AM: [ Validation loss = 0.10492207188355296 ]\n",
            "05/01/2020 09:45:11 AM: [ ==================== EPOCH 15 ================================ ]\n",
            "05/01/2020 09:45:12 AM: [ Epoch finished avg loss = 0.09747264100746675 ]\n",
            "05/01/2020 09:45:12 AM: [ Validation loss = 0.10569091729427639 ]\n",
            "05/01/2020 09:45:12 AM: [ ==================== EPOCH 16 ================================ ]\n",
            "05/01/2020 09:45:13 AM: [ Epoch finished avg loss = 0.09725933810978225 ]\n",
            "05/01/2020 09:45:13 AM: [ Validation loss = 0.10427017078587883 ]\n",
            "05/01/2020 09:45:13 AM: [ BEST EPOCH SO FAR --> safe model ]\n",
            "05/01/2020 09:45:13 AM: [ ==================== EPOCH 17 ================================ ]\n",
            "05/01/2020 09:45:13 AM: [ Epoch finished avg loss = 0.09721274190779888 ]\n",
            "05/01/2020 09:45:13 AM: [ Validation loss = 0.10587619048984427 ]\n",
            "05/01/2020 09:45:13 AM: [ ==================== EPOCH 18 ================================ ]\n",
            "05/01/2020 09:45:14 AM: [ Epoch finished avg loss = 0.09674724855206229 ]\n",
            "05/01/2020 09:45:14 AM: [ Validation loss = 0.10524041950702667 ]\n",
            "05/01/2020 09:45:14 AM: [ ==================== EPOCH 19 ================================ ]\n",
            "05/01/2020 09:45:14 AM: [ Epoch finished avg loss = 0.09688478681174191 ]\n",
            "05/01/2020 09:45:14 AM: [ Validation loss = 0.10375028182017176 ]\n",
            "05/01/2020 09:45:14 AM: [ BEST EPOCH SO FAR --> safe model ]\n",
            "05/01/2020 09:45:14 AM: [ ==================== EPOCH 20 ================================ ]\n",
            "05/01/2020 09:45:15 AM: [ Epoch finished avg loss = 0.09724315400376464 ]\n",
            "05/01/2020 09:45:15 AM: [ Validation loss = 0.10388454049825668 ]\n",
            "05/01/2020 09:45:15 AM: [ ==================== EPOCH 21 ================================ ]\n",
            "05/01/2020 09:45:16 AM: [ Epoch finished avg loss = 0.096734563238693 ]\n",
            "05/01/2020 09:45:16 AM: [ Validation loss = 0.10725215508749611 ]\n",
            "05/01/2020 09:45:16 AM: [ ==================== EPOCH 22 ================================ ]\n",
            "05/01/2020 09:45:16 AM: [ Epoch finished avg loss = 0.09666857687812863 ]\n",
            "05/01/2020 09:45:16 AM: [ Validation loss = 0.1054229567709722 ]\n",
            "05/01/2020 09:45:16 AM: [ ==================== EPOCH 23 ================================ ]\n",
            "05/01/2020 09:45:17 AM: [ Epoch finished avg loss = 0.09680742215026508 ]\n",
            "05/01/2020 09:45:17 AM: [ Validation loss = 0.10502384289314873 ]\n",
            "05/01/2020 09:45:17 AM: [ ==================== EPOCH 24 ================================ ]\n",
            "05/01/2020 09:45:17 AM: [ Epoch finished avg loss = 0.09691714612823545 ]\n",
            "05/01/2020 09:45:17 AM: [ Validation loss = 0.10530458116217663 ]\n",
            "05/01/2020 09:45:17 AM: [ ==================== EPOCH 25 ================================ ]\n",
            "05/01/2020 09:45:18 AM: [ Epoch finished avg loss = 0.09686890253514954 ]\n",
            "05/01/2020 09:45:18 AM: [ Validation loss = 0.10547309290421636 ]\n",
            "05/01/2020 09:45:18 AM: [ ==================== EPOCH 26 ================================ ]\n",
            "05/01/2020 09:45:19 AM: [ Epoch finished avg loss = 0.0961316686010722 ]\n",
            "05/01/2020 09:45:19 AM: [ Validation loss = 0.1052506593497176 ]\n",
            "05/01/2020 09:45:19 AM: [ ==================== EPOCH 27 ================================ ]\n",
            "05/01/2020 09:45:19 AM: [ Epoch finished avg loss = 0.09658117158846422 ]\n",
            "05/01/2020 09:45:19 AM: [ Validation loss = 0.10446358432895259 ]\n",
            "05/01/2020 09:45:19 AM: [ ==================== EPOCH 28 ================================ ]\n",
            "05/01/2020 09:45:20 AM: [ Epoch finished avg loss = 0.0963700803166086 ]\n",
            "05/01/2020 09:45:20 AM: [ Validation loss = 0.10542214661836624 ]\n",
            "05/01/2020 09:45:20 AM: [ ==================== EPOCH 29 ================================ ]\n",
            "05/01/2020 09:45:20 AM: [ Epoch finished avg loss = 0.09640155181740269 ]\n",
            "05/01/2020 09:45:20 AM: [ Validation loss = 0.10359186934013116 ]\n",
            "05/01/2020 09:45:20 AM: [ BEST EPOCH SO FAR --> safe model ]\n",
            "05/01/2020 09:45:20 AM: [ ==================== EPOCH 30 ================================ ]\n",
            "05/01/2020 09:45:21 AM: [ Epoch finished avg loss = 0.09620909623124382 ]\n",
            "05/01/2020 09:45:21 AM: [ Validation loss = 0.10596205176491487 ]\n",
            "05/01/2020 09:45:21 AM: [ ==================== EPOCH 31 ================================ ]\n",
            "05/01/2020 09:45:22 AM: [ Epoch finished avg loss = 0.09624819502686009 ]\n",
            "05/01/2020 09:45:22 AM: [ Validation loss = 0.10488181012241464 ]\n",
            "05/01/2020 09:45:22 AM: [ ==================== EPOCH 32 ================================ ]\n",
            "05/01/2020 09:45:22 AM: [ Epoch finished avg loss = 0.09623606918436108 ]\n",
            "05/01/2020 09:45:22 AM: [ Validation loss = 0.1042380909386434 ]\n",
            "05/01/2020 09:45:22 AM: [ ==================== EPOCH 33 ================================ ]\n",
            "05/01/2020 09:45:23 AM: [ Epoch finished avg loss = 0.09625829896240523 ]\n",
            "05/01/2020 09:45:23 AM: [ Validation loss = 0.10481000691652298 ]\n",
            "05/01/2020 09:45:23 AM: [ ==================== EPOCH 34 ================================ ]\n",
            "05/01/2020 09:45:23 AM: [ Epoch finished avg loss = 0.09660249785943464 ]\n",
            "05/01/2020 09:45:24 AM: [ Validation loss = 0.10335405229737885 ]\n",
            "05/01/2020 09:45:24 AM: [ BEST EPOCH SO FAR --> safe model ]\n",
            "05/01/2020 09:45:24 AM: [ ==================== EPOCH 35 ================================ ]\n",
            "05/01/2020 09:45:24 AM: [ Epoch finished avg loss = 0.09594679556109688 ]\n",
            "05/01/2020 09:45:24 AM: [ Validation loss = 0.10596828750873867 ]\n",
            "05/01/2020 09:45:24 AM: [ ==================== EPOCH 36 ================================ ]\n",
            "05/01/2020 09:45:25 AM: [ Epoch finished avg loss = 0.09629044609539436 ]\n",
            "05/01/2020 09:45:25 AM: [ Validation loss = 0.10406243801116943 ]\n",
            "05/01/2020 09:45:25 AM: [ ==================== EPOCH 37 ================================ ]\n",
            "05/01/2020 09:45:25 AM: [ Epoch finished avg loss = 0.09637708040800962 ]\n",
            "05/01/2020 09:45:25 AM: [ Validation loss = 0.10422732445754503 ]\n",
            "05/01/2020 09:45:25 AM: [ ==================== EPOCH 38 ================================ ]\n",
            "05/01/2020 09:45:26 AM: [ Epoch finished avg loss = 0.09629623004884431 ]\n",
            "05/01/2020 09:45:26 AM: [ Validation loss = 0.10549573874787281 ]\n",
            "05/01/2020 09:45:26 AM: [ ==================== EPOCH 39 ================================ ]\n",
            "05/01/2020 09:45:27 AM: [ Epoch finished avg loss = 0.09637534365509495 ]\n",
            "05/01/2020 09:45:27 AM: [ Validation loss = 0.10494196140452434 ]\n",
            "05/01/2020 09:45:27 AM: [ ==================== EPOCH 40 ================================ ]\n",
            "05/01/2020 09:45:27 AM: [ Epoch finished avg loss = 0.0961901496079835 ]\n",
            "05/01/2020 09:45:27 AM: [ Validation loss = 0.10496619108476136 ]\n",
            "05/01/2020 09:45:27 AM: [ ==================== EPOCH 41 ================================ ]\n",
            "05/01/2020 09:45:28 AM: [ Epoch finished avg loss = 0.09642132565830693 ]\n",
            "05/01/2020 09:45:28 AM: [ Validation loss = 0.1043708642062388 ]\n",
            "05/01/2020 09:45:28 AM: [ ==================== EPOCH 42 ================================ ]\n",
            "05/01/2020 09:45:28 AM: [ Epoch finished avg loss = 0.09576830182111624 ]\n",
            "05/01/2020 09:45:28 AM: [ Validation loss = 0.10554072927487523 ]\n",
            "05/01/2020 09:45:28 AM: [ ==================== EPOCH 43 ================================ ]\n",
            "05/01/2020 09:45:29 AM: [ Epoch finished avg loss = 0.09645061985109792 ]\n",
            "05/01/2020 09:45:29 AM: [ Validation loss = 0.10466753142444711 ]\n",
            "05/01/2020 09:45:29 AM: [ ==================== EPOCH 44 ================================ ]\n",
            "05/01/2020 09:45:30 AM: [ Epoch finished avg loss = 0.0960797033978231 ]\n",
            "05/01/2020 09:45:30 AM: [ Validation loss = 0.10436413593982395 ]\n",
            "05/01/2020 09:45:30 AM: [ EARLY STOPPING ]\n",
            "10570it [00:02, 3645.38it/s]\n",
            "05/01/2020 09:45:33 AM: [ SQuAD evaluation results w/o re-ranking: 0.30018921475875116 / upper bound: 0.5428571428571428; rank-qa: 0.32923368022705773 ]\n",
            "05/01/2020 09:45:33 AM: [ fraction still correct = 0.9565769068095306 ]\n"
          ],
          "name": "stderr"
        }
      ]
    },
    {
      "cell_type": "code",
      "metadata": {
        "id": "_fUyJHyIvsUv",
        "colab_type": "code",
        "colab": {}
      },
      "source": [
        "import numpy as np\n",
        "import torch\n",
        "from tqdm import tqdm\n"
      ],
      "execution_count": 0,
      "outputs": []
    },
    {
      "cell_type": "code",
      "metadata": {
        "id": "F9h9UoRuyNC7",
        "colab_type": "code",
        "colab": {}
      },
      "source": [
        "print(test_dataset[1][0:10])"
      ],
      "execution_count": 0,
      "outputs": []
    },
    {
      "cell_type": "code",
      "metadata": {
        "id": "pjE7KlBewpfm",
        "colab_type": "code",
        "colab": {}
      },
      "source": [
        "        model = model_eval\n",
        "        X = test_dataset[0]\n",
        "        y = test_dataset[1]\n",
        "        y_pred = []\n",
        "        baseline_performance = 0\n",
        "        top_performance = 0\n",
        "        model_performance = 0\n",
        "        wrong = []\n",
        "        with torch.no_grad():\n",
        "            for i, x in tqdm(enumerate(X[0:40])):\n",
        "                inputs = []\n",
        "                solvable = False\n",
        "                for j, candidate in enumerate(x):\n",
        "                    \n",
        "                    if y[i][j] == 1:\n",
        "                        solvable = True\n",
        "                        print(solvable)\n",
        "                    inputs.append(candidate)\n",
        "\n",
        "                baseline_performance += int(y[i][0])\n",
        "\n",
        "                if not solvable:\n",
        "                    # no need to predict unsolvable questions\n",
        "                    wrong.append(i)\n",
        "                    continue\n",
        "\n",
        "                top_performance += 1\n",
        "\n",
        "                scores = model.predict(torch.stack(inputs))\n",
        "\n",
        "                y_pred.append(np.argmax(scores))\n",
        "                for k in range(len(x)):\n",
        "                  if(test_data[i][k]['target'] == 1):\n",
        "                    actual_index = k\n",
        "                    print('QuestionID: ' + str(test_data[i][j]['qid']) +  ' predicted index : ' + str(np.argmax(scores)) + ' actual index: ' + str(k) )\n",
        "                    break;\n",
        "                print((scores[0:10]))\n",
        "                model_performance += int(y[i][np.argmax(scores[0:10])])\n",
        "                if int(y[i][np.argmax(scores)]) == 0:\n",
        "                    wrong.append(i)\n",
        "\n",
        "        baseline_performance = baseline_performance / len(y)\n",
        "        model_performance = model_performance / len(y)\n",
        "        top_performance = top_performance / len(y)\n",
        "        log = '{} evaluation results w/o re-ranking: {} / upper bound: {}; rank-qa: {}'.format('SQUAD',\n",
        "                                                                                               baseline_performance,\n",
        "                                                                                               top_performance,\n",
        "                                                                                               model_performance)\n"
      ],
      "execution_count": 0,
      "outputs": []
    },
    {
      "cell_type": "code",
      "metadata": {
        "id": "MiKN86kmzikq",
        "colab_type": "code",
        "colab": {}
      },
      "source": [
        "for i in range(len(y_pred)):\n",
        "  x = y_pred[i]\n",
        "  for j in range(len(test_data[i])):\n",
        "    if(test_data[i][j]['target'] == 1):\n",
        "      ac = j\n",
        "      break;\n",
        "  print('predicted: ' + str(y_pred[i]) + ': actual: ' + str(ac))"
      ],
      "execution_count": 0,
      "outputs": []
    },
    {
      "cell_type": "code",
      "metadata": {
        "id": "uOt7sBmGIxid",
        "colab_type": "code",
        "outputId": "a7721131-6e86-4b14-c999-36a1628abaea",
        "colab": {
          "base_uri": "https://localhost:8080/",
          "height": 51
        }
      },
      "source": [
        "    initiallywrong = []\n",
        "    for evaluator_ in evaluators:\n",
        "        log, wrongansw = evaluator_.evaluate(model)\n",
        "        initiallywrong.append(wrongansw)\n",
        "        logger.info(log)\n",
        "    best_val_loss = float('inf')\n",
        "    best_val_iteration = 0"
      ],
      "execution_count": 0,
      "outputs": [
        {
          "output_type": "stream",
          "text": [
            "9952it [00:02, 3384.76it/s]\n",
            "04/15/2020 12:00:52 AM: [ WikiMovies evaluation results w/o re-ranking: 0.3867564308681672 / upper bound: 0.6498191318327974; rank-qa: 0.21764469453376206 ]\n"
          ],
          "name": "stderr"
        }
      ]
    },
    {
      "cell_type": "code",
      "metadata": {
        "id": "_qqhq3GzI6Zy",
        "colab_type": "code",
        "outputId": "79e5ffcb-d923-4edd-d4ca-901d7e2ca820",
        "colab": {
          "base_uri": "https://localhost:8080/",
          "height": 34
        }
      },
      "source": [
        "wrong = []\n",
        "log, wrongans = evaluators[0].evaluate(model)\n",
        "wrong.append(wrongans)"
      ],
      "execution_count": 0,
      "outputs": [
        {
          "output_type": "stream",
          "text": [
            "9952it [00:02, 3545.37it/s]\n"
          ],
          "name": "stderr"
        }
      ]
    },
    {
      "cell_type": "code",
      "metadata": {
        "id": "qIwUjXcnKAFZ",
        "colab_type": "code",
        "outputId": "47e66cfc-a9a6-41d3-96bf-63a029d20dc8",
        "colab": {
          "base_uri": "https://localhost:8080/",
          "height": 68
        }
      },
      "source": [
        "print(len(wrongans))\n",
        "print(len(wrongansw))\n",
        "print(len(np.intersect1d(wrongans, wrongansw)))"
      ],
      "execution_count": 0,
      "outputs": [
        {
          "output_type": "stream",
          "text": [
            "5651\n",
            "7793\n",
            "5306\n"
          ],
          "name": "stdout"
        }
      ]
    }
  ]
}